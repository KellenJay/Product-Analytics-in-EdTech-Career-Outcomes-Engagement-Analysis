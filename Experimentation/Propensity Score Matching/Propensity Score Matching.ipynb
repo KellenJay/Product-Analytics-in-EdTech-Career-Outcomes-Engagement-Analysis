{
 "cells": [
  {
   "cell_type": "markdown",
   "id": "377901d4-8a95-41ac-82dc-06ab0916b8da",
   "metadata": {},
   "source": [
    "# Propensity Score Matching \n",
    "\n",
    "**Goal.** Estimate the causal effect of completing more projects on job offers, adjusting for pre-treatment confounders using Propensity Score Matching (PSM).\n",
    "\n",
    "**Setup.**\n",
    "- Treatment (**D**): `Projects_Completed ≥ 3` → 1, else 0  \n",
    "- Outcome (**Y**): `Job_Offers`  \n",
    "- Confounders (**X**): `Internships_Completed`, `Networking_Score`, `Soft_Skills_Score` (pre-treatment; backdoor set from the DAG)\n",
    "\n",
    "**Lifecycle.** \n",
    "- (1) Estimate propensity scores →\n",
    "- (2) Match (NN + caliper; enforce common support) →\n",
    "- (3) Balance checks (SMD, t-tests, Love plot) →\n",
    "- (4) Outcome analysis (ATT + CI).\n",
    "\n",
    "The effect is reported both by `CausalModel` and transparently on matched pairs.\n"
   ]
  },
  {
   "cell_type": "markdown",
   "id": "5e204b73-cfe1-4fa0-9ada-3eb44c17e381",
   "metadata": {},
   "source": [
    "**1. Import Libraries**"
   ]
  },
  {
   "cell_type": "code",
   "execution_count": 11,
   "id": "e95e45a0-9f1e-4309-942f-a9b5f49e8b35",
   "metadata": {},
   "outputs": [
    {
     "name": "stdout",
     "output_type": "stream",
     "text": [
      "Collecting causalinference\n",
      "  Downloading CausalInference-0.1.3-py3-none-any.whl.metadata (2.5 kB)\n",
      "Downloading CausalInference-0.1.3-py3-none-any.whl (51 kB)\n",
      "Installing collected packages: causalinference\n",
      "Successfully installed causalinference-0.1.3\n"
     ]
    }
   ],
   "source": [
    "!pip install causalinference"
   ]
  },
  {
   "cell_type": "code",
   "execution_count": 12,
   "id": "805366c6-8774-4991-af73-a7b9c11303f8",
   "metadata": {},
   "outputs": [],
   "source": [
    "import numpy as np\n",
    "import pandas as pd\n",
    "import matplotlib.pyplot as plt\n",
    "from scipy import stats\n",
    "\n",
    "from causalinference import CausalModel           \n",
    "from sklearn.linear_model import LogisticRegression\n",
    "from sklearn.preprocessing import StandardScaler\n",
    "from sklearn.neighbors import NearestNeighbors"
   ]
  },
  {
   "cell_type": "markdown",
   "id": "af6a9f83-83c5-49c9-8282-34075985677e",
   "metadata": {},
   "source": [
    "**2. Load data & define variables**"
   ]
  },
  {
   "cell_type": "code",
   "execution_count": 16,
   "id": "fd8442e0-1a10-4ff5-a1d2-701721669896",
   "metadata": {},
   "outputs": [],
   "source": [
    "# Load merged analysis dataset (produced earlier in the pipeline)\n",
    "df = pd.read_csv(r\"C:\\Users\\Ellen\\Desktop\\Documents\\Part-Time work\\Projects\\Education & Career Success\\Dataset\\merged_student_data.csv\")\n",
    "\n",
    "# Binary treatment: policy cut \n",
    "df[\"D\"] = (df[\"Projects_Completed\"] >= 3).astype(int)\n",
    "\n",
    "Y_col  = \"Job_Offers\"\n",
    "X_cols = [\"Internships_Completed\", \"Networking_Score\", \"Soft_Skills_Score\"]  # pre-treatment only\n",
    "\n",
    "# Keep complete cases for this analysis block\n",
    "df = df.dropna(subset=[\"D\", Y_col] + X_cols).copy()\n",
    "\n",
    "Y = df[Y_col].values\n",
    "D = df[\"D\"].values\n",
    "X = df[X_cols].values"
   ]
  },
  {
   "cell_type": "markdown",
   "id": "791dd023-cae8-4950-8d9a-fd22ed8f3846",
   "metadata": {},
   "source": [
    "**3. Causal estimate via matching (CausalModel)**"
   ]
  },
  {
   "cell_type": "code",
   "execution_count": 19,
   "id": "386e26f0-d83c-4cb9-95c9-8f38745a0239",
   "metadata": {},
   "outputs": [
    {
     "name": "stdout",
     "output_type": "stream",
     "text": [
      "\n",
      "Treatment Effect Estimates: Matching\n",
      "\n",
      "                     Est.       S.e.          z      P>|z|      [95% Conf. int.]\n",
      "--------------------------------------------------------------------------------\n",
      "           ATE      2.761      0.082     33.624      0.000      2.600      2.922\n",
      "           ATC      0.854      0.176      4.844      0.000      0.508      1.200\n",
      "           ATT      2.810      0.083     34.011      0.000      2.648      2.972\n",
      "\n"
     ]
    },
    {
     "name": "stderr",
     "output_type": "stream",
     "text": [
      "C:\\Users\\Ellen\\anaconda3\\Lib\\site-packages\\causalinference\\estimators\\matching.py:100: FutureWarning: `rcond` parameter will change to the default of machine precision times ``max(M, N)`` where M and N are the input matrix dimensions.\n",
      "To use the future default and silence this warning we advise to pass `rcond=None`, to keep using the old, explicitly pass `rcond=-1`.\n",
      "  return np.linalg.lstsq(X, Y)[0][1:]  # don't need intercept coef\n"
     ]
    }
   ],
   "source": [
    "# CausalModel gives ATE/ATT/ATC with SEs/p-values using matching\n",
    "cm = CausalModel(Y=Y, D=D, X=X)\n",
    "cm.est_via_matching(bias_adj=True, matches=1)  # 1:1 NN; bias adjustment on\n",
    "print(cm.estimates)"
   ]
  },
  {
   "cell_type": "markdown",
   "id": "cd620750-8d65-4c2b-be55-056cd5a076c3",
   "metadata": {},
   "source": [
    "**Interpretation.** \n",
    "\n",
    "We focus on **ATT** (average treatment effect on treated): expected change in `Job_Offers` for those who completed ≥3 projects, relative to similar learners who did not, after matching on confounders."
   ]
  },
  {
   "cell_type": "markdown",
   "id": "042e2d1a-627b-46d9-84ad-e7d3f093f56e",
   "metadata": {},
   "source": [
    "**4. Propensity model & overlap (diagnostics)**"
   ]
  },
  {
   "cell_type": "code",
   "execution_count": 27,
   "id": "63ebf096-c999-4ac6-bf6c-4e8d5756298c",
   "metadata": {},
   "outputs": [
    {
     "data": {
      "image/png": "[encoded data removed]",
      "text/plain": [
       "<Figure size 640x480 with 1 Axes>"
      ]
     },
     "metadata": {},
     "output_type": "display_data"
    }
   ],
   "source": [
    "# Estimate propensity scores (logit of D ~ X) for diagnostics/plots\n",
    "scaler = StandardScaler()\n",
    "X_std = scaler.fit_transform(X)\n",
    "logit = LogisticRegression(max_iter=1000, solver=\"lbfgs\").fit(X_std, D)\n",
    "df[\"ps\"] = logit.predict_proba(X_std)[:, 1]\n",
    "\n",
    "# PS overlap (common support)\n",
    "plt.figure()\n",
    "plt.hist(df.loc[df.D==1, \"ps\"], bins=30, alpha=0.6, label=\"Treated\")\n",
    "plt.hist(df.loc[df.D==0, \"ps\"], bins=30, alpha=0.6, label=\"Control\")\n",
    "plt.title(\"Propensity score overlap (common support)\")\n",
    "plt.xlabel(\"Propensity score\"); plt.ylabel(\"Count\"); plt.legend(); plt.show()\n",
    "\n",
    "# Trim to common support (optional but recommended)\n",
    "lo = max(df.loc[df.D==1,\"ps\"].min(), df.loc[df.D==0,\"ps\"].min())\n",
    "hi = min(df.loc[df.D==1,\"ps\"].max(), df.loc[df.D==0,\"ps\"].max())\n",
    "df_cs = df[(df[\"ps\"] >= lo) & (df[\"ps\"] <= hi)].copy()"
   ]
  },
  {
   "cell_type": "markdown",
   "id": "d8f10120-ddcd-4671-bd1d-1e62ded4b3a8",
   "metadata": {},
   "source": [
    "**Interpretation:**\n",
    "\n",
    "- Almost all treated at ~1.0 (PS ≈ 1).\n",
    "- Almost all control at low values (PS ≈ 0.2–0.3).\n",
    "- Very little to no overlap.\n",
    "\n",
    "This means logistic regression can perfectly separate treated from control; i.e., based on confounders, the model can almost always tell who is “treated.” That breaks the common support assumption and makes **PSM unreliable.**\n",
    "\n",
    "**A few possibile reasons:**\n",
    "\n",
    "- **Treatment coding is too strict:** If we set Projects_Completed >= 3 as treated, maybe nearly everyone qualifies, or almost no one does. We will try different thresholds (e.g. >=1, >=2, or binarize differently).\n",
    "\n",
    "- **Strong predictors in confounders:** Maybe something like Internships_Completed is heavily correlated with Projects_Completed, so the logit pushes PS to extremes.\n",
    "\n",
    "- **Imbalanced dataset:** If you have very few treated vs control (or vice versa), overlap can collapse."
   ]
  },
  {
   "cell_type": "code",
   "execution_count": 32,
   "id": "d561ecda-62ef-495a-ba82-c590cbb047d4",
   "metadata": {},
   "outputs": [
    {
     "data": {
      "text/plain": [
       "D\n",
       "1    0.975\n",
       "0    0.025\n",
       "Name: proportion, dtype: float64"
      ]
     },
     "execution_count": 32,
     "metadata": {},
     "output_type": "execute_result"
    }
   ],
   "source": [
    "# Checking treatment distribution\n",
    "df[\"D\"].value_counts(normalize=True)"
   ]
  },
  {
   "cell_type": "code",
   "execution_count": 34,
   "id": "61fc7f29-cecb-4108-a0a5-d0706c5991a3",
   "metadata": {},
   "outputs": [
    {
     "data": {
      "text/html": [
       "<div>\n",
       "<style scoped>\n",
       "    .dataframe tbody tr th:only-of-type {\n",
       "        vertical-align: middle;\n",
       "    }\n",
       "\n",
       "    .dataframe tbody tr th {\n",
       "        vertical-align: top;\n",
       "    }\n",
       "\n",
       "    .dataframe thead th {\n",
       "        text-align: right;\n",
       "    }\n",
       "</style>\n",
       "<table border=\"1\" class=\"dataframe\">\n",
       "  <thead>\n",
       "    <tr style=\"text-align: right;\">\n",
       "      <th></th>\n",
       "      <th>count</th>\n",
       "      <th>mean</th>\n",
       "      <th>std</th>\n",
       "      <th>min</th>\n",
       "      <th>25%</th>\n",
       "      <th>50%</th>\n",
       "      <th>75%</th>\n",
       "      <th>max</th>\n",
       "    </tr>\n",
       "    <tr>\n",
       "      <th>D</th>\n",
       "      <th></th>\n",
       "      <th></th>\n",
       "      <th></th>\n",
       "      <th></th>\n",
       "      <th></th>\n",
       "      <th></th>\n",
       "      <th></th>\n",
       "      <th></th>\n",
       "    </tr>\n",
       "  </thead>\n",
       "  <tbody>\n",
       "    <tr>\n",
       "      <th>0</th>\n",
       "      <td>10.0</td>\n",
       "      <td>0.284159</td>\n",
       "      <td>0.173780</td>\n",
       "      <td>0.185143</td>\n",
       "      <td>0.185143</td>\n",
       "      <td>0.185143</td>\n",
       "      <td>0.305651</td>\n",
       "      <td>0.599883</td>\n",
       "    </tr>\n",
       "    <tr>\n",
       "      <th>1</th>\n",
       "      <td>390.0</td>\n",
       "      <td>0.992736</td>\n",
       "      <td>0.016877</td>\n",
       "      <td>0.951285</td>\n",
       "      <td>0.999405</td>\n",
       "      <td>0.999993</td>\n",
       "      <td>0.999999</td>\n",
       "      <td>1.000000</td>\n",
       "    </tr>\n",
       "  </tbody>\n",
       "</table>\n",
       "</div>"
      ],
      "text/plain": [
       "   count      mean       std       min       25%       50%       75%       max\n",
       "D                                                                             \n",
       "0   10.0  0.284159  0.173780  0.185143  0.185143  0.185143  0.305651  0.599883\n",
       "1  390.0  0.992736  0.016877  0.951285  0.999405  0.999993  0.999999  1.000000"
      ]
     },
     "execution_count": 34,
     "metadata": {},
     "output_type": "execute_result"
    }
   ],
   "source": [
    "# Inspect propensity score ranges per group\n",
    "df.groupby(\"D\")[\"ps\"].describe()"
   ]
  },
  {
   "cell_type": "markdown",
   "id": "dc80797d-2415-49c4-b764-00709587bd67",
   "metadata": {},
   "source": [
    "Because 97.5% of students completed ≥3 projects, **PSM isn’t valid; there are no comparable controls.** This demonstrates the importance of treatment definition and overlap checks in causal inference."
   ]
  },
  {
   "cell_type": "markdown",
   "id": "fb4d1dcf-0e23-4cb2-87be-74ef266b60d4",
   "metadata": {},
   "source": [
    "**Descriptive statistics for treatment, outcome, and confounders**"
   ]
  },
  {
   "cell_type": "code",
   "execution_count": 38,
   "id": "d7381405-9022-4e97-9327-82a0700f267d",
   "metadata": {},
   "outputs": [
    {
     "name": "stdout",
     "output_type": "stream",
     "text": [
      "Descriptive statistics:\n"
     ]
    },
    {
     "data": {
      "text/html": [
       "<div>\n",
       "<style scoped>\n",
       "    .dataframe tbody tr th:only-of-type {\n",
       "        vertical-align: middle;\n",
       "    }\n",
       "\n",
       "    .dataframe tbody tr th {\n",
       "        vertical-align: top;\n",
       "    }\n",
       "\n",
       "    .dataframe thead th {\n",
       "        text-align: right;\n",
       "    }\n",
       "</style>\n",
       "<table border=\"1\" class=\"dataframe\">\n",
       "  <thead>\n",
       "    <tr style=\"text-align: right;\">\n",
       "      <th></th>\n",
       "      <th>count</th>\n",
       "      <th>mean</th>\n",
       "      <th>std</th>\n",
       "      <th>min</th>\n",
       "      <th>25%</th>\n",
       "      <th>50%</th>\n",
       "      <th>75%</th>\n",
       "      <th>max</th>\n",
       "      <th>missing</th>\n",
       "      <th>unique</th>\n",
       "    </tr>\n",
       "  </thead>\n",
       "  <tbody>\n",
       "    <tr>\n",
       "      <th>Projects_Completed</th>\n",
       "      <td>400.0</td>\n",
       "      <td>6.2350</td>\n",
       "      <td>1.902320</td>\n",
       "      <td>2.0</td>\n",
       "      <td>5.0</td>\n",
       "      <td>6.0</td>\n",
       "      <td>8.0</td>\n",
       "      <td>9.0</td>\n",
       "      <td>0</td>\n",
       "      <td>8</td>\n",
       "    </tr>\n",
       "    <tr>\n",
       "      <th>Job_Offers</th>\n",
       "      <td>400.0</td>\n",
       "      <td>2.7400</td>\n",
       "      <td>1.355357</td>\n",
       "      <td>0.0</td>\n",
       "      <td>2.0</td>\n",
       "      <td>3.0</td>\n",
       "      <td>4.0</td>\n",
       "      <td>5.0</td>\n",
       "      <td>0</td>\n",
       "      <td>6</td>\n",
       "    </tr>\n",
       "    <tr>\n",
       "      <th>Internships_Completed</th>\n",
       "      <td>400.0</td>\n",
       "      <td>2.5000</td>\n",
       "      <td>1.061988</td>\n",
       "      <td>0.0</td>\n",
       "      <td>2.0</td>\n",
       "      <td>3.0</td>\n",
       "      <td>3.0</td>\n",
       "      <td>4.0</td>\n",
       "      <td>0</td>\n",
       "      <td>5</td>\n",
       "    </tr>\n",
       "    <tr>\n",
       "      <th>Networking_Score</th>\n",
       "      <td>400.0</td>\n",
       "      <td>6.9325</td>\n",
       "      <td>1.318062</td>\n",
       "      <td>4.0</td>\n",
       "      <td>6.0</td>\n",
       "      <td>7.0</td>\n",
       "      <td>8.0</td>\n",
       "      <td>9.0</td>\n",
       "      <td>0</td>\n",
       "      <td>6</td>\n",
       "    </tr>\n",
       "    <tr>\n",
       "      <th>Soft_Skills_Score</th>\n",
       "      <td>400.0</td>\n",
       "      <td>7.9325</td>\n",
       "      <td>1.314253</td>\n",
       "      <td>5.0</td>\n",
       "      <td>7.0</td>\n",
       "      <td>8.0</td>\n",
       "      <td>9.0</td>\n",
       "      <td>10.0</td>\n",
       "      <td>0</td>\n",
       "      <td>6</td>\n",
       "    </tr>\n",
       "  </tbody>\n",
       "</table>\n",
       "</div>"
      ],
      "text/plain": [
       "                       count    mean       std  min  25%  50%  75%   max  \\\n",
       "Projects_Completed     400.0  6.2350  1.902320  2.0  5.0  6.0  8.0   9.0   \n",
       "Job_Offers             400.0  2.7400  1.355357  0.0  2.0  3.0  4.0   5.0   \n",
       "Internships_Completed  400.0  2.5000  1.061988  0.0  2.0  3.0  3.0   4.0   \n",
       "Networking_Score       400.0  6.9325  1.318062  4.0  6.0  7.0  8.0   9.0   \n",
       "Soft_Skills_Score      400.0  7.9325  1.314253  5.0  7.0  8.0  9.0  10.0   \n",
       "\n",
       "                       missing  unique  \n",
       "Projects_Completed           0       8  \n",
       "Job_Offers                   0       6  \n",
       "Internships_Completed        0       5  \n",
       "Networking_Score             0       6  \n",
       "Soft_Skills_Score            0       6  "
      ]
     },
     "metadata": {},
     "output_type": "display_data"
    },
    {
     "name": "stdout",
     "output_type": "stream",
     "text": [
      "\n",
      "Value counts for Projects_Completed:\n",
      "Projects_Completed\n",
      "2    10\n",
      "3    31\n",
      "4    37\n",
      "5    60\n",
      "6    70\n",
      "7    83\n",
      "8    49\n",
      "9    60\n",
      "Name: count, dtype: int64\n",
      "\n",
      "Value counts for Job_Offers:\n",
      "Job_Offers\n",
      "0     10\n",
      "1     69\n",
      "2    107\n",
      "3    101\n",
      "4     55\n",
      "5     58\n",
      "Name: count, dtype: int64\n",
      "\n",
      "Value counts for Internships_Completed:\n",
      "Internships_Completed\n",
      "0     10\n",
      "1     69\n",
      "2    108\n",
      "3    137\n",
      "4     76\n",
      "Name: count, dtype: int64\n",
      "\n",
      "Value counts for Networking_Score:\n",
      "Networking_Score\n",
      "4      8\n",
      "5     57\n",
      "6     84\n",
      "7    114\n",
      "8     79\n",
      "9     58\n",
      "Name: count, dtype: int64\n",
      "\n",
      "Value counts for Soft_Skills_Score:\n",
      "Soft_Skills_Score\n",
      "5       7\n",
      "6      58\n",
      "7      85\n",
      "8     113\n",
      "9      79\n",
      "10     58\n",
      "Name: count, dtype: int64\n"
     ]
    }
   ],
   "source": [
    "# Descriptive stats for treatment, outcome, and confounders\n",
    "cols_to_check = [\"Projects_Completed\", \"Job_Offers\", \n",
    "                 \"Internships_Completed\", \"Networking_Score\", \"Soft_Skills_Score\"]\n",
    "\n",
    "desc = df[cols_to_check].describe().T\n",
    "desc[\"missing\"] = df[cols_to_check].isnull().sum()\n",
    "desc[\"unique\"] = df[cols_to_check].nunique()\n",
    "\n",
    "print(\"Descriptive statistics:\")\n",
    "display(desc)\n",
    "\n",
    "# Quick distribution checks\n",
    "for col in cols_to_check:\n",
    "    print(f\"\\nValue counts for {col}:\")\n",
    "    print(df[col].value_counts().sort_index().head(10))  "
   ]
  },
  {
   "cell_type": "code",
   "execution_count": 40,
   "id": "86783f17-d97c-4671-9584-f4c7c6768727",
   "metadata": {},
   "outputs": [
    {
     "data": {
      "image/png": "[encoded data removed]",
      "text/plain": [
       "<Figure size 1200x500 with 2 Axes>"
      ]
     },
     "metadata": {},
     "output_type": "display_data"
    }
   ],
   "source": [
    "import seaborn as sns\n",
    "\n",
    "plt.figure(figsize=(12,5))\n",
    "\n",
    "# Histogram\n",
    "plt.subplot(1,2,1)\n",
    "sns.histplot(df[\"Projects_Completed\"], bins=8, kde=False, color=\"steelblue\", edgecolor=\"black\")\n",
    "plt.title(\"Distribution of Projects_Completed\")\n",
    "plt.xlabel(\"Projects_Completed\")\n",
    "plt.ylabel(\"Count\")\n",
    "\n",
    "# Boxplot\n",
    "plt.subplot(1,2,2)\n",
    "sns.boxplot(x=df[\"Projects_Completed\"], color=\"lightcoral\")\n",
    "plt.title(\"Boxplot of Projects_Completed\")\n",
    "plt.xlabel(\"Projects_Completed\")\n",
    "\n",
    "plt.tight_layout()\n",
    "plt.show()"
   ]
  },
  {
   "cell_type": "markdown",
   "id": "0de4e4b5-0545-4b3f-8245-1403350923c5",
   "metadata": {},
   "source": [
    "**5. Option 1: Propensity Score Matching (Quartile Split: drop the middle band)**\n",
    "\n",
    "The idea is to define treatment as top quartile of projects (≥8) vs bottom quartile (≤5), drop 6–7 to improve comparability."
   ]
  },
  {
   "cell_type": "code",
   "execution_count": 47,
   "id": "a0708a8e-638e-465b-ba66-4ab6fdcd1746",
   "metadata": {},
   "outputs": [
    {
     "name": "stdout",
     "output_type": "stream",
     "text": [
      "Counts (after dropping middle band):\n",
      "D_q\n",
      "0.0    138\n",
      "1.0    109\n",
      "Name: count, dtype: int64\n"
     ]
    }
   ],
   "source": [
    "# Redefine treatment & analysis sample\n",
    "df_psm = df.copy()\n",
    "\n",
    "# bottom vs top quartiles by your descriptives (Q1=5, Q3=8)\n",
    "df_psm[\"D_q\"] = np.where(df_psm[\"Projects_Completed\"] >= 8, 1,\n",
    "                  np.where(df_psm[\"Projects_Completed\"] <= 5, 0, np.nan))\n",
    "df_psm = df_psm.dropna(subset=[\"D_q\"]).copy()   # drop middle band (6–7)\n",
    "\n",
    "Y_col  = \"Job_Offers\"\n",
    "X_cols = [\"Internships_Completed\",\"Networking_Score\",\"Soft_Skills_Score\"]  # pre-treatment only\n",
    "\n",
    "df_psm = df_psm.dropna(subset=[Y_col]+X_cols).copy()\n",
    "\n",
    "Y = df_psm[Y_col].values\n",
    "D = df_psm[\"D_q\"].astype(int).values\n",
    "X = df_psm[X_cols].values\n",
    "\n",
    "print(\"Counts (after dropping middle band):\")\n",
    "print(df_psm[\"D_q\"].value_counts())"
   ]
  },
  {
   "cell_type": "code",
   "execution_count": 45,
   "id": "f6ff08da-feec-46ba-99c2-2530f5819e54",
   "metadata": {},
   "outputs": [
    {
     "name": "stdout",
     "output_type": "stream",
     "text": [
      "\n",
      "CausalModel (matching) estimates:\n",
      " \n",
      "Treatment Effect Estimates: Matching\n",
      "\n",
      "                     Est.       S.e.          z      P>|z|      [95% Conf. int.]\n",
      "--------------------------------------------------------------------------------\n",
      "           ATE      1.732      0.062     27.743      0.000      1.609      1.854\n",
      "           ATC      1.460      0.072     20.200      0.000      1.318      1.601\n",
      "           ATT      2.076      0.079     26.255      0.000      1.921      2.231\n",
      "\n"
     ]
    },
    {
     "name": "stderr",
     "output_type": "stream",
     "text": [
      "C:\\Users\\Ellen\\anaconda3\\Lib\\site-packages\\causalinference\\estimators\\matching.py:100: FutureWarning: `rcond` parameter will change to the default of machine precision times ``max(M, N)`` where M and N are the input matrix dimensions.\n",
      "To use the future default and silence this warning we advise to pass `rcond=None`, to keep using the old, explicitly pass `rcond=-1`.\n",
      "  return np.linalg.lstsq(X, Y)[0][1:]  # don't need intercept coef\n"
     ]
    }
   ],
   "source": [
    "# Estimate effect via matching (CausalModel)\n",
    "cm = CausalModel(Y=Y, D=D, X=X)\n",
    "cm.est_via_matching(bias_adj=True, matches=1)\n",
    "print(\"\\nCausalModel (matching) estimates:\\n\", cm.estimates)"
   ]
  },
  {
   "cell_type": "code",
   "execution_count": 51,
   "id": "12df15a4-7c49-4a5c-b0b2-4f4f05dc5dfb",
   "metadata": {},
   "outputs": [],
   "source": [
    "# Propensity model (diagnostics)\n",
    "scaler = StandardScaler()\n",
    "X_std = scaler.fit_transform(X)\n",
    "logit = LogisticRegression(max_iter=1000, solver=\"lbfgs\").fit(X_std, D)\n",
    "df_psm[\"ps\"] = logit.predict_proba(X_std)[:,1]"
   ]
  },
  {
   "cell_type": "code",
   "execution_count": 53,
   "id": "bba16f0c-167c-483d-9dc6-9c01372e9fde",
   "metadata": {},
   "outputs": [
    {
     "data": {
      "image/png": "[encoded data removed]",
      "text/plain": [
       "<Figure size 640x480 with 1 Axes>"
      ]
     },
     "metadata": {},
     "output_type": "display_data"
    }
   ],
   "source": [
    "# Overlap plot\n",
    "plt.figure()\n",
    "plt.hist(df_psm.loc[df_psm.D_q==1,\"ps\"], bins=30, alpha=0.6, label=\"Treated (top quartile)\")\n",
    "plt.hist(df_psm.loc[df_psm.D_q==0,\"ps\"], bins=30, alpha=0.6, label=\"Control (bottom quartile)\")\n",
    "plt.title(\"Propensity score overlap (quartile split)\")\n",
    "plt.xlabel(\"Propensity score\"); plt.ylabel(\"Count\"); plt.legend(); plt.show()\n",
    "\n",
    "# Trim to common support \n",
    "lo = max(df_psm.loc[df_psm.D_q==1,\"ps\"].min(), df_psm.loc[df_psm.D_q==0,\"ps\"].min())\n",
    "hi = min(df_psm.loc[df_psm.D_q==1,\"ps\"].max(), df_psm.loc[df_psm.D_q==0,\"ps\"].max())\n",
    "df_cs = df_psm[(df_psm[\"ps\"]>=lo) & (df_psm[\"ps\"]<=hi)].copy()"
   ]
  },
  {
   "cell_type": "markdown",
   "id": "c9ff1a6a-908a-4c5c-ad02-9f98eb711029",
   "metadata": {},
   "source": [
    "When splitting by quartiles (≤5 vs ≥8 projects), the propensity score distributions showed no common support: controls had PS ≤0.11 while treated had PS ≥0.92. This means PSM is not valid here, since there are no comparable controls to match against."
   ]
  },
  {
   "cell_type": "code",
   "execution_count": 57,
   "id": "b8caac29-fcfa-4d56-ba56-e58aa0cf374d",
   "metadata": {},
   "outputs": [
    {
     "name": "stdout",
     "output_type": "stream",
     "text": [
      "PS by group (quartile split):\n",
      "     count      mean       std       min       25%       50%       75%  \\\n",
      "D_q                                                                      \n",
      "0.0  138.0  0.020803  0.040392  0.000001  0.000102  0.001374  0.009318   \n",
      "1.0  109.0  0.973636  0.034897  0.921282  0.921282  0.999074  0.999074   \n",
      "\n",
      "          max  \n",
      "D_q            \n",
      "0.0  0.112614  \n",
      "1.0  0.999074  \n",
      "lo, hi: 0.9212818611513228 0.11261365301370249\n",
      "Counts in common support: Series([], Name: count, dtype: int64)\n"
     ]
    }
   ],
   "source": [
    "# After you compute df_psm and df_psm[\"ps\"], then do:\n",
    "print(\"PS by group (quartile split):\")\n",
    "print(df_psm.groupby(\"D_q\")[\"ps\"].describe())\n",
    "\n",
    "ps_t = df_psm.loc[df_psm.D_q==1, \"ps\"].values\n",
    "ps_c = df_psm.loc[df_psm.D_q==0, \"ps\"].values\n",
    "lo = max(ps_t.min(), ps_c.min())\n",
    "hi = min(ps_t.max(), ps_c.max())\n",
    "print(\"lo, hi:\", lo, hi)\n",
    "\n",
    "df_cs = df_psm[(df_psm[\"ps\"]>=lo) & (df_psm[\"ps\"]<=hi)].copy()\n",
    "print(\"Counts in common support:\", df_cs[\"D_q\"].value_counts(dropna=False))"
   ]
  },
  {
   "cell_type": "code",
   "execution_count": 59,
   "id": "7c865dd6-668e-40b1-9c05-534b4545036d",
   "metadata": {},
   "outputs": [
    {
     "name": "stdout",
     "output_type": "stream",
     "text": [
      "Counts in relaxed common support: Series([], Name: count, dtype: int64)\n"
     ]
    }
   ],
   "source": [
    "# Loosen trimming (diagnostic only)\n",
    "# Use central percentiles instead of raw min/max to define overlap\n",
    "ps_t = df_psm.loc[df_psm.D_q==1, \"ps\"].values\n",
    "ps_c = df_psm.loc[df_psm.D_q==0, \"ps\"].values\n",
    "\n",
    "lo = max(np.percentile(ps_t, 2),  np.percentile(ps_c, 2))\n",
    "hi = min(np.percentile(ps_t, 98), np.percentile(ps_c, 98))\n",
    "df_cs = df_psm[(df_psm[\"ps\"]>=lo) & (df_psm[\"ps\"]<=hi)].copy()\n",
    "\n",
    "print(\"Counts in relaxed common support:\", df_cs[\"D_q\"].value_counts())"
   ]
  },
  {
   "cell_type": "markdown",
   "id": "5d42f3c9-69a4-4f54-b8ce-3f085ea432d0",
   "metadata": {},
   "source": [
    "**Test Results**\n",
    "\n",
    "We first attempted a **quartile split**:  \n",
    "- **Treatment:** `Projects_Completed ≥ 8` (top quartile)  \n",
    "- **Control:** `Projects_Completed ≤ 5` (bottom quartile)  \n",
    "\n",
    "**Diagnostics:**  \n",
    "- Propensity scores showed *no common support*:  \n",
    "  - Controls: 0.00–0.11  \n",
    "  - Treated: 0.92–1.00  \n",
    "- After trimming, there were **zero controls left** in the overlap region.  \n",
    "- → Matching was not defensible, since there are no comparable control units.\n",
    "\n",
    "**Takeaway:**  \n",
    "This demonstrates the importance of **checking overlap** before reporting causal estimates. Even though the `CausalModel` produced large ATT/ATE values, these are unreliable in the absence of common support."
   ]
  },
  {
   "cell_type": "markdown",
   "id": "902ad312-88ce-4b29-b0fd-5b5624bef01e",
   "metadata": {},
   "source": [
    "**6. Inverse Probability of Treatment Weighting (Median Split)**"
   ]
  },
  {
   "cell_type": "code",
   "execution_count": 71,
   "id": "d263e60b-5544-4926-ac1c-beda17b0b290",
   "metadata": {},
   "outputs": [],
   "source": [
    "# Define median split treatment\n",
    "thresh = df[\"Projects_Completed\"].median() \n",
    "df_iptw = df.copy()\n",
    "df_iptw[\"D_median\"] = (df_iptw[\"Projects_Completed\"] >= thresh).astype(int)\n",
    "\n",
    "Y_col  = \"Job_Offers\"\n",
    "X_cols = [\"Internships_Completed\",\"Networking_Score\",\"Soft_Skills_Score\"]\n",
    "\n",
    "df_iptw = df_iptw.dropna(subset=[Y_col]+X_cols).copy()\n",
    "\n",
    "D = df_iptw[\"D_median\"].values\n",
    "X = df_iptw[X_cols].values\n",
    "Y = df_iptw[Y_col].values"
   ]
  },
  {
   "cell_type": "code",
   "execution_count": 73,
   "id": "3ff47481-3e8c-4c2b-8068-a336e0ae540b",
   "metadata": {},
   "outputs": [],
   "source": [
    "# Propensity model\n",
    "scaler = StandardScaler()\n",
    "X_std = scaler.fit_transform(X)\n",
    "logit = LogisticRegression(max_iter=1000, solver=\"lbfgs\").fit(X_std, D)\n",
    "ps = logit.predict_proba(X_std)[:,1]\n",
    "df_iptw[\"ps\"] = ps"
   ]
  },
  {
   "cell_type": "code",
   "execution_count": 75,
   "id": "414330ea-1219-4f13-be49-f7446227873e",
   "metadata": {},
   "outputs": [
    {
     "name": "stdout",
     "output_type": "stream",
     "text": [
      "\n",
      "Weight summary (before/after trim):\n",
      "count    400.000000\n",
      "mean       0.692595\n",
      "std        0.298015\n",
      "min        0.345104\n",
      "25%        0.619062\n",
      "50%        0.666663\n",
      "75%        0.671084\n",
      "max        1.479540\n",
      "Name: sw, dtype: float64\n",
      "count    400.000000\n",
      "mean       0.692595\n",
      "std        0.298015\n",
      "min        0.345104\n",
      "25%        0.619062\n",
      "50%        0.666663\n",
      "75%        0.671084\n",
      "max        1.479540\n",
      "Name: sw_trim, dtype: float64\n"
     ]
    },
    {
     "data": {
      "image/png": "[encoded data removed]",
      "text/plain": [
       "<Figure size 640x480 with 1 Axes>"
      ]
     },
     "metadata": {},
     "output_type": "display_data"
    }
   ],
   "source": [
    "# Stabilized IPTW\n",
    "p_t = D.mean()  # marginal P(T=1)\n",
    "sw = np.where(D==1, p_t/ps, (1-p_t)/(1-ps))\n",
    "df_iptw[\"sw\"] = sw\n",
    "\n",
    "# Trim extreme weights (1st–99th percentile)\n",
    "lo, hi = np.percentile(df_iptw[\"sw\"], [1, 99])\n",
    "df_iptw[\"sw_trim\"] = df_iptw[\"sw\"].clip(lo, hi)\n",
    "\n",
    "print(\"\\nWeight summary (before/after trim):\")\n",
    "print(df_iptw[\"sw\"].describe())\n",
    "print(df_iptw[\"sw_trim\"].describe())\n",
    "\n",
    "plt.figure()\n",
    "plt.hist(df_iptw[\"sw_trim\"], bins=30, edgecolor=\"black\")\n",
    "plt.title(\"Stabilized IPTW (trimmed)\")\n",
    "plt.xlabel(\"Weight\"); plt.ylabel(\"Count\"); plt.show()"
   ]
  },
  {
   "cell_type": "code",
   "execution_count": 77,
   "id": "4f826b2e-9c27-4ca7-916b-9c386b5c87db",
   "metadata": {},
   "outputs": [
    {
     "name": "stdout",
     "output_type": "stream",
     "text": [
      "\n",
      "Balance diagnostics (aim |SMD_weighted| < 0.1):\n",
      "                covariate  SMD_unweighted  SMD_weighted\n",
      "0  Internships_Completed        2.689330      2.041381\n",
      "1       Networking_Score        2.191024      1.601044\n",
      "2      Soft_Skills_Score        2.210939      1.617588\n"
     ]
    }
   ],
   "source": [
    "# Weighted balance check (SMD before/after)\n",
    "def wmean(x, w): return np.sum(w*x)/np.sum(w)\n",
    "def wvar(x, w):\n",
    "    mu = wmean(x,w); return np.sum(w*(x-mu)**2)/np.sum(w)\n",
    "def wsmd(x, w, d):\n",
    "    x1, w1 = x[d==1], w[d==1]; x0, w0 = x[d==0], w[d==0]\n",
    "    s = np.sqrt((wvar(x1,w1)+wvar(x0,w0))/2)\n",
    "    return 0.0 if s==0 else (wmean(x1,w1)-wmean(x0,w0))/s\n",
    "\n",
    "rows=[]\n",
    "for col in X_cols:\n",
    "    # Unweighted\n",
    "    smd_unw = (np.mean(df_iptw.loc[D==1,col]) - np.mean(df_iptw.loc[D==0,col])) / np.sqrt((np.var(df_iptw.loc[D==1,col], ddof=1)+np.var(df_iptw.loc[D==0,col], ddof=1))/2)\n",
    "    # Weighted\n",
    "    smd_w = wsmd(df_iptw[col].values, df_iptw[\"sw_trim\"].values, D)\n",
    "    rows.append({\"covariate\":col, \"SMD_unweighted\":smd_unw, \"SMD_weighted\":smd_w})\n",
    "\n",
    "balance = pd.DataFrame(rows)\n",
    "print(\"\\nBalance diagnostics (aim |SMD_weighted| < 0.1):\\n\", balance)"
   ]
  },
  {
   "cell_type": "code",
   "execution_count": 81,
   "id": "644116a7-9798-4d13-a927-3e05ac2f72d6",
   "metadata": {},
   "outputs": [
    {
     "name": "stdout",
     "output_type": "stream",
     "text": [
      "\n",
      "IPTW ATE (coef on D_median):\n",
      " ==============================================================================\n",
      "                 coef    std err          z      P>|z|      [0.025      0.975]\n",
      "------------------------------------------------------------------------------\n",
      "const          1.5321      0.050     30.877      0.000       1.435       1.629\n",
      "D_median       1.6799      0.089     18.943      0.000       1.506       1.854\n",
      "==============================================================================\n"
     ]
    }
   ],
   "source": [
    "import statsmodels.api as sm\n",
    "\n",
    "# Weighted regression (ATE)\n",
    "X_wls = sm.add_constant(df_iptw[[\"D_median\"]])\n",
    "wls   = sm.WLS(Y, X_wls, weights=df_iptw[\"sw_trim\"]).fit(cov_type=\"HC1\")\n",
    "print(\"\\nIPTW ATE (coef on D_median):\\n\", wls.summary().tables[1])"
   ]
  },
  {
   "cell_type": "markdown",
   "id": "f428315c-e284-4bb4-b315-96903eed459d",
   "metadata": {},
   "source": [
    "We checked balance and it didn’t meet the criterion, so estimates may still be biased."
   ]
  },
  {
   "cell_type": "markdown",
   "id": "97bbb03f-c10a-4b1c-b56c-009d3b73be8f",
   "metadata": {},
   "source": [
    "**Test Results**\n",
    "\n",
    "To improve overlap, we used a **median split**:  \n",
    "- **Treatment:** `Projects_Completed ≥ 6`  \n",
    "- **Control:** `Projects_Completed < 6`  \n",
    "\n",
    "**Diagnostics:**  \n",
    "- Stabilized IPTW weights were well-behaved (mean ≈ 0.69, max ≈ 1.48).  \n",
    "- Weighted balance improved, but **SMD values remained high** (1.6–2.0 > 0.1).  \n",
    "- → This indicates **residual imbalance**, suggesting results may still be biased.\n",
    "\n",
    "**Results (ATE):**  \n",
    "- Weighted regression of `Job_Offers ~ D` estimated an **ATE of 1.68 (p < 0.001, 95% CI [1.51, 1.85])**.  \n",
    "- Interpretation: learners completing ≥6 projects appear to receive ~1.7 more job offers, though imbalance means this may overstate the true effect.\n",
    "\n",
    "**Takeaway:**  \n",
    "IPTW provides an interpretable effect size but **did not fully balance covariates**. This motivates exploring alternative approaches such as **Overlap Weights**."
   ]
  },
  {
   "cell_type": "markdown",
   "id": "5d6a94c6-9b79-4752-abd3-33341dbbe722",
   "metadata": {},
   "source": [
    "**7. Overlap Weights (ATO) – Robustness Check**"
   ]
  },
  {
   "cell_type": "code",
   "execution_count": 87,
   "id": "85d32bca-3662-4e62-b1e0-39b0c68fb83e",
   "metadata": {},
   "outputs": [],
   "source": [
    "# Assumes you already have:\n",
    "# df_iptw with columns: D_median (0/1), Job_Offers, Internships_Completed, Networking_Score, Soft_Skills_Score, ps\n",
    "\n",
    "D = df_iptw[\"D_median\"].values\n",
    "Y = df_iptw[\"Job_Offers\"].values\n",
    "ps = df_iptw[\"ps\"].values"
   ]
  },
  {
   "cell_type": "code",
   "execution_count": 89,
   "id": "d7601bba-160d-450b-9def-b574e3bf21f4",
   "metadata": {},
   "outputs": [
    {
     "name": "stdout",
     "output_type": "stream",
     "text": [
      "Overlap weight summary:\n",
      "count    400.000000\n",
      "mean       0.145121\n",
      "std        0.217668\n",
      "min        0.000302\n",
      "25%        0.015259\n",
      "50%        0.017494\n",
      "75%        0.442705\n",
      "max        0.557295\n",
      "Name: w_ov, dtype: float64\n"
     ]
    },
    {
     "data": {
      "image/png": "[encoded data removed]",
      "text/plain": [
       "<Figure size 640x480 with 1 Axes>"
      ]
     },
     "metadata": {},
     "output_type": "display_data"
    }
   ],
   "source": [
    "# Overlap weights (Li, Morgan, Zaslavsky): emphasize overlap region\n",
    "w_ov = np.where(D==1, 1-ps, ps)\n",
    "df_iptw[\"w_ov\"] = w_ov\n",
    "\n",
    "print(\"Overlap weight summary:\")\n",
    "print(df_iptw[\"w_ov\"].describe())\n",
    "\n",
    "plt.figure()\n",
    "plt.hist(df_iptw[\"w_ov\"], bins=30, edgecolor=\"black\")\n",
    "plt.title(\"Overlap Weights (ATO)\"); plt.xlabel(\"Weight\"); plt.ylabel(\"Count\"); plt.show()"
   ]
  },
  {
   "cell_type": "code",
   "execution_count": 91,
   "id": "9d6f371a-d0a1-41b2-a2b5-d23b8454e639",
   "metadata": {},
   "outputs": [
    {
     "name": "stdout",
     "output_type": "stream",
     "text": [
      "\n",
      "Overlap-weighted balance (aim |SMD| < 0.10):\n",
      "                covariate  SMD_overlap_weighted\n",
      "0  Internships_Completed              0.549696\n",
      "1       Networking_Score              0.005312\n",
      "2      Soft_Skills_Score              0.033517\n"
     ]
    }
   ],
   "source": [
    "# Weighted balance diagnostics (|SMD| -> aim < 0.10)\n",
    "def wmean(x, w): return np.sum(w*x)/np.sum(w)\n",
    "def wvar(x, w):\n",
    "    mu = wmean(x,w); return np.sum(w*(x-mu)**2)/np.sum(w)\n",
    "def wsmd(x, w, d):\n",
    "    x1, w1 = x[d==1], w[d==1]\n",
    "    x0, w0 = x[d==0], w[d==0]\n",
    "    s = np.sqrt((wvar(x1,w1) + wvar(x0,w0))/2)\n",
    "    return 0.0 if s==0 else (wmean(x1,w1) - wmean(x0,w0))/s\n",
    "\n",
    "X_cols = [\"Internships_Completed\", \"Networking_Score\", \"Soft_Skills_Score\"]\n",
    "rows=[]\n",
    "for col in X_cols:\n",
    "    x = df_iptw[col].values\n",
    "    rows.append({\n",
    "        \"covariate\": col,\n",
    "        \"SMD_overlap_weighted\": wsmd(x, df_iptw[\"w_ov\"].values, D)\n",
    "    })\n",
    "bal_ov = pd.DataFrame(rows)\n",
    "print(\"\\nOverlap-weighted balance (aim |SMD| < 0.10):\\n\", bal_ov)"
   ]
  },
  {
   "cell_type": "code",
   "execution_count": 93,
   "id": "dbf7eb0c-4003-4090-9998-41d617c84588",
   "metadata": {},
   "outputs": [
    {
     "name": "stdout",
     "output_type": "stream",
     "text": [
      "\n",
      "Overlap-Weighted ATO (coef on D_median):\n",
      " ==============================================================================\n",
      "                 coef    std err          z      P>|z|      [0.025      0.975]\n",
      "------------------------------------------------------------------------------\n",
      "const          1.9608      0.007    291.548      0.000       1.948       1.974\n",
      "D_median       0.1802      0.026      6.996      0.000       0.130       0.231\n",
      "==============================================================================\n"
     ]
    }
   ],
   "source": [
    "# ATO effect: weighted regression Y ~ 1 + D with overlap weights (robust SE)\n",
    "X_w = sm.add_constant(df_iptw[[\"D_median\"]])\n",
    "ato = sm.WLS(Y, X_w, weights=df_iptw[\"w_ov\"]).fit(cov_type=\"HC1\")\n",
    "print(\"\\nOverlap-Weighted ATO (coef on D_median):\\n\", ato.summary().tables[1])"
   ]
  },
  {
   "cell_type": "markdown",
   "id": "a46176c2-3be6-4337-9855-f1de0538ad15",
   "metadata": {},
   "source": [
    "Using overlap weights with a simple logistic propensity model balanced networking and soft skills well but left internships imbalanced (SMD ≈ 0.55). We then tested richer propensity models (polynomial logistic regression, gradient boosting). These improved covariate balance, especially for internships, leading to more credible ATO estimates."
   ]
  },
  {
   "cell_type": "code",
   "execution_count": 101,
   "id": "911c84b5-3847-4c0e-9987-fec5ac140515",
   "metadata": {},
   "outputs": [],
   "source": [
    "from sklearn.preprocessing import PolynomialFeatures\n",
    "\n",
    "# Add nonlinearity/interactions (logit with polynomial terms)\n",
    "Z = df_iptw[[\"Internships_Completed\",\"Networking_Score\",\"Soft_Skills_Score\"]].values\n",
    "poly = PolynomialFeatures(degree=2, include_bias=False)\n",
    "Z2 = poly.fit_transform(Z)\n",
    "\n",
    "logit2 = LogisticRegression(max_iter=5000, solver=\"lbfgs\").fit(Z2, D)\n",
    "df_iptw[\"ps\"] = logit2.predict_proba(Z2)[:,1]"
   ]
  },
  {
   "cell_type": "code",
   "execution_count": 103,
   "id": "8b2e44cf-2d33-4171-8108-5f7ba22eecd3",
   "metadata": {},
   "outputs": [],
   "source": [
    "from sklearn.ensemble import GradientBoostingClassifier\n",
    "\n",
    "# Use a flexible propensity model (gradient boosting)\n",
    "gb = GradientBoostingClassifier(random_state=0)\n",
    "gb.fit(Z, D)\n",
    "df_iptw[\"ps\"] = gb.predict_proba(Z)[:,1]"
   ]
  },
  {
   "cell_type": "code",
   "execution_count": 105,
   "id": "db7fa3e0-28a1-4118-89cf-770c1b100f1d",
   "metadata": {},
   "outputs": [
    {
     "name": "stdout",
     "output_type": "stream",
     "text": [
      "Overlap Weights — model comparison (aim for max|SMD| < 0.10):\n"
     ]
    },
    {
     "data": {
      "text/html": [
       "<style type=\"text/css\">\n",
       "</style>\n",
       "<table id=\"T_97bc6\">\n",
       "  <thead>\n",
       "    <tr>\n",
       "      <th class=\"blank level0\" >&nbsp;</th>\n",
       "      <th id=\"T_97bc6_level0_col0\" class=\"col_heading level0 col0\" >model</th>\n",
       "      <th id=\"T_97bc6_level0_col1\" class=\"col_heading level0 col1\" >ATE/ATO (coef)</th>\n",
       "      <th id=\"T_97bc6_level0_col2\" class=\"col_heading level0 col2\" >SE</th>\n",
       "      <th id=\"T_97bc6_level0_col3\" class=\"col_heading level0 col3\" >CI_low</th>\n",
       "      <th id=\"T_97bc6_level0_col4\" class=\"col_heading level0 col4\" >CI_high</th>\n",
       "      <th id=\"T_97bc6_level0_col5\" class=\"col_heading level0 col5\" >SMD_Internships_Completed</th>\n",
       "      <th id=\"T_97bc6_level0_col6\" class=\"col_heading level0 col6\" >SMD_Networking_Score</th>\n",
       "      <th id=\"T_97bc6_level0_col7\" class=\"col_heading level0 col7\" >SMD_Soft_Skills_Score</th>\n",
       "      <th id=\"T_97bc6_level0_col8\" class=\"col_heading level0 col8\" >max|SMD|</th>\n",
       "    </tr>\n",
       "  </thead>\n",
       "  <tbody>\n",
       "    <tr>\n",
       "      <th id=\"T_97bc6_level0_row0\" class=\"row_heading level0 row0\" >2</th>\n",
       "      <td id=\"T_97bc6_row0_col0\" class=\"data row0 col0\" >GradientBoosting</td>\n",
       "      <td id=\"T_97bc6_row0_col1\" class=\"data row0 col1\" >0.023</td>\n",
       "      <td id=\"T_97bc6_row0_col2\" class=\"data row0 col2\" >0.022</td>\n",
       "      <td id=\"T_97bc6_row0_col3\" class=\"data row0 col3\" >-0.021</td>\n",
       "      <td id=\"T_97bc6_row0_col4\" class=\"data row0 col4\" >0.067</td>\n",
       "      <td id=\"T_97bc6_row0_col5\" class=\"data row0 col5\" >0.019</td>\n",
       "      <td id=\"T_97bc6_row0_col6\" class=\"data row0 col6\" >0.001</td>\n",
       "      <td id=\"T_97bc6_row0_col7\" class=\"data row0 col7\" >0.001</td>\n",
       "      <td id=\"T_97bc6_row0_col8\" class=\"data row0 col8\" >0.019</td>\n",
       "    </tr>\n",
       "    <tr>\n",
       "      <th id=\"T_97bc6_level0_row1\" class=\"row_heading level0 row1\" >1</th>\n",
       "      <td id=\"T_97bc6_row1_col0\" class=\"data row1 col0\" >Poly-Logit (deg2)</td>\n",
       "      <td id=\"T_97bc6_row1_col1\" class=\"data row1 col1\" >0.026</td>\n",
       "      <td id=\"T_97bc6_row1_col2\" class=\"data row1 col2\" >0.022</td>\n",
       "      <td id=\"T_97bc6_row1_col3\" class=\"data row1 col3\" >-0.018</td>\n",
       "      <td id=\"T_97bc6_row1_col4\" class=\"data row1 col4\" >0.069</td>\n",
       "      <td id=\"T_97bc6_row1_col5\" class=\"data row1 col5\" >0.080</td>\n",
       "      <td id=\"T_97bc6_row1_col6\" class=\"data row1 col6\" >-0.001</td>\n",
       "      <td id=\"T_97bc6_row1_col7\" class=\"data row1 col7\" >0.002</td>\n",
       "      <td id=\"T_97bc6_row1_col8\" class=\"data row1 col8\" >0.080</td>\n",
       "    </tr>\n",
       "    <tr>\n",
       "      <th id=\"T_97bc6_level0_row2\" class=\"row_heading level0 row2\" >0</th>\n",
       "      <td id=\"T_97bc6_row2_col0\" class=\"data row2 col0\" >Logit</td>\n",
       "      <td id=\"T_97bc6_row2_col1\" class=\"data row2 col1\" >0.180</td>\n",
       "      <td id=\"T_97bc6_row2_col2\" class=\"data row2 col2\" >0.026</td>\n",
       "      <td id=\"T_97bc6_row2_col3\" class=\"data row2 col3\" >0.130</td>\n",
       "      <td id=\"T_97bc6_row2_col4\" class=\"data row2 col4\" >0.231</td>\n",
       "      <td id=\"T_97bc6_row2_col5\" class=\"data row2 col5\" >0.550</td>\n",
       "      <td id=\"T_97bc6_row2_col6\" class=\"data row2 col6\" >0.005</td>\n",
       "      <td id=\"T_97bc6_row2_col7\" class=\"data row2 col7\" >0.034</td>\n",
       "      <td id=\"T_97bc6_row2_col8\" class=\"data row2 col8\" >0.550</td>\n",
       "    </tr>\n",
       "  </tbody>\n",
       "</table>\n"
      ],
      "text/plain": [
       "<pandas.io.formats.style.Styler at 0x22e8339e420>"
      ]
     },
     "metadata": {},
     "output_type": "display_data"
    }
   ],
   "source": [
    "# Inputs\n",
    "Y_col  = \"Job_Offers\"\n",
    "D_col  = \"D_median\"\n",
    "X_cols = [\"Internships_Completed\",\"Networking_Score\",\"Soft_Skills_Score\"]\n",
    "\n",
    "D = df_iptw[D_col].values.astype(int)\n",
    "Y = df_iptw[Y_col].values\n",
    "X = df_iptw[X_cols].values\n",
    "\n",
    "# Helpers\n",
    "def wmean(x, w): return np.sum(w*x)/np.sum(w)\n",
    "def wvar(x, w):\n",
    "    mu = wmean(x,w); return np.sum(w*(x-mu)**2)/np.sum(w)\n",
    "def wsmd(x, w, d):\n",
    "    x1, w1 = x[d==1], w[d==1]; x0, w0 = x[d==0], w[d==0]\n",
    "    s = np.sqrt((wvar(x1,w1)+wvar(x0,w0))/2)\n",
    "    return 0.0 if s==0 else (wmean(x1,w1)-wmean(x0,w0))/s\n",
    "\n",
    "def overlap_weighted_summary(ps, name):\n",
    "    # overlap weights\n",
    "    w = np.where(D==1, 1-ps, ps)\n",
    "    # balance\n",
    "    smds = {c: wsmd(df_iptw[c].values, w, D) for c in X_cols}\n",
    "    # ATO effect\n",
    "    Xw = sm.add_constant(df_iptw[[D_col]])\n",
    "    fit = sm.WLS(Y, Xw, weights=w).fit(cov_type=\"HC1\")\n",
    "    coef = fit.params[D_col]; se = fit.bse[D_col]\n",
    "    lo, hi = coef - 1.96*se, coef + 1.96*se\n",
    "    return {\n",
    "        \"model\": name,\n",
    "        \"ATE/ATO (coef)\": coef,\n",
    "        \"SE\": se,\n",
    "        \"CI_low\": lo,\n",
    "        \"CI_high\": hi,\n",
    "        **{f\"SMD_{k}\": v for k,v in smds.items()},\n",
    "        \"max|SMD|\": np.max(np.abs(list(smds.values())))\n",
    "    }, fit\n",
    "\n",
    "results = []\n",
    "\n",
    "# Baseline Logistic\n",
    "scaler = StandardScaler()\n",
    "X_std = scaler.fit_transform(X)\n",
    "logit = LogisticRegression(max_iter=5000, solver=\"lbfgs\").fit(X_std, D)\n",
    "ps_logit = logit.predict_proba(X_std)[:,1]\n",
    "res1, fit1 = overlap_weighted_summary(ps_logit, \"Logit\")\n",
    "results.append(res1)\n",
    "\n",
    "# Polynomial Logistic (degree=2)\n",
    "poly = PolynomialFeatures(degree=2, include_bias=False)\n",
    "X_poly = poly.fit_transform(X)  # no standardization needed for logit but fine to add if desired\n",
    "logit2 = LogisticRegression(max_iter=10000, solver=\"lbfgs\").fit(X_poly, D)\n",
    "ps_poly = logit2.predict_proba(X_poly)[:,1]\n",
    "res2, fit2 = overlap_weighted_summary(ps_poly, \"Poly-Logit (deg2)\")\n",
    "results.append(res2)\n",
    "\n",
    "# Gradient Boosting \n",
    "gb = GradientBoostingClassifier(random_state=0)\n",
    "gb.fit(X, D)\n",
    "ps_gb = gb.predict_proba(X)[:,1]\n",
    "res3, fit3 = overlap_weighted_summary(ps_gb, \"GradientBoosting\")\n",
    "results.append(res3)\n",
    "\n",
    "# Summary table \n",
    "summary = pd.DataFrame(results)[[\n",
    "    \"model\",\"ATE/ATO (coef)\",\"SE\",\"CI_low\",\"CI_high\",\n",
    "    \"SMD_Internships_Completed\",\"SMD_Networking_Score\",\"SMD_Soft_Skills_Score\",\"max|SMD|\"\n",
    "]].sort_values(\"max|SMD|\")\n",
    "\n",
    "print(\"Overlap Weights — model comparison (aim for max|SMD| < 0.10):\")\n",
    "display(summary.style.format({\n",
    "    \"ATE/ATO (coef)\":\"{:.3f}\",\"SE\":\"{:.3f}\",\"CI_low\":\"{:.3f}\",\"CI_high\":\"{:.3f}\",\n",
    "    \"SMD_Internships_Completed\":\"{:.3f}\",\n",
    "    \"SMD_Networking_Score\":\"{:.3f}\",\n",
    "    \"SMD_Soft_Skills_Score\":\"{:.3f}\",\n",
    "    \"max|SMD|\":\"{:.3f}\"\n",
    "}))"
   ]
  },
  {
   "cell_type": "code",
   "execution_count": 109,
   "id": "9174980a-94f9-4c25-a3ef-f8b720d45ddf",
   "metadata": {},
   "outputs": [
    {
     "data": {
      "image/png": "[encoded data removed]",
      "text/plain": [
       "<Figure size 800x400 with 1 Axes>"
      ]
     },
     "metadata": {},
     "output_type": "display_data"
    }
   ],
   "source": [
    "# Covariates\n",
    "X_cols = [\"Internships_Completed\",\"Networking_Score\",\"Soft_Skills_Score\"]\n",
    "\n",
    "# Function to compute SMD\n",
    "def smd_unweighted(x, d):\n",
    "    return (np.mean(x[d==1]) - np.mean(x[d==0])) / np.sqrt((np.var(x[d==1], ddof=1) + np.var(x[d==0], ddof=1)) / 2)\n",
    "\n",
    "def smd_weighted(x, d, w):\n",
    "    def wmean(x, w): return np.sum(w*x)/np.sum(w)\n",
    "    def wvar(x, w):\n",
    "        mu = wmean(x,w); return np.sum(w*(x-mu)**2)/np.sum(w)\n",
    "    x1, w1 = x[d==1], w[d==1]; x0, w0 = x[d==0], w[d==0]\n",
    "    s = np.sqrt((wvar(x1,w1) + wvar(x0,w0)) / 2)\n",
    "    return 0 if s==0 else (wmean(x1,w1) - wmean(x0,w0)) / s\n",
    "\n",
    "# Compute SMDs\n",
    "smds_unw = [smd_unweighted(df_iptw[col].values, df_iptw[\"D_median\"].values) for col in X_cols]\n",
    "smds_w   = [smd_weighted(df_iptw[col].values, df_iptw[\"D_median\"].values, df_iptw[\"w_ov\"].values) for col in X_cols]\n",
    "\n",
    "# Plot\n",
    "plt.figure(figsize=(8,4))\n",
    "y_pos = np.arange(len(X_cols))\n",
    "plt.scatter(smds_unw, y_pos, color=\"red\", label=\"Unweighted\", s=80)\n",
    "plt.scatter(smds_w, y_pos, color=\"blue\", label=\"Overlap Weights\", s=80)\n",
    "plt.axvline(0, color=\"black\", linestyle=\"--\")\n",
    "plt.axvline(0.1, color=\"gray\", linestyle=\"dashed\")\n",
    "plt.axvline(-0.1, color=\"gray\", linestyle=\"dashed\")\n",
    "plt.yticks(y_pos, X_cols)\n",
    "plt.xlabel(\"Standardized Mean Difference (SMD)\")\n",
    "plt.title(\"Covariate Balance Before vs After Overlap Weights\")\n",
    "plt.legend()\n",
    "plt.tight_layout()\n",
    "plt.show()"
   ]
  },
  {
   "cell_type": "code",
   "execution_count": 111,
   "id": "62d0be47-bcf4-4e00-a7fe-27fb62fc2ffa",
   "metadata": {},
   "outputs": [
    {
     "name": "stdout",
     "output_type": "stream",
     "text": [
      "Balance (SMD) summary — aim for |SMD| < 0.10:\n",
      "\n",
      "               covariate  Unweighted  IPTW_weighted  Overlap_weighted\n",
      "0  Internships_Completed       2.689          2.041             0.550\n",
      "1       Networking_Score       2.191          1.601             0.005\n",
      "2      Soft_Skills_Score       2.211          1.618             0.034\n"
     ]
    },
    {
     "data": {
      "image/png": "[encoded data removed]",
      "text/plain": [
       "<Figure size 1000x450 with 2 Axes>"
      ]
     },
     "metadata": {},
     "output_type": "display_data"
    }
   ],
   "source": [
    "# Side-by-side balance plot: IPTW vs Overlap Weights\n",
    "# inputs\n",
    "treat = df_iptw[\"D_median\"].values.astype(int)\n",
    "covs  = [\"Internships_Completed\",\"Networking_Score\",\"Soft_Skills_Score\"]\n",
    "\n",
    "# helpers\n",
    "def smd_unweighted(x, d):\n",
    "    return (np.mean(x[d==1]) - np.mean(x[d==0])) / np.sqrt((np.var(x[d==1], ddof=1)+np.var(x[d==0], ddof=1))/2)\n",
    "\n",
    "def wmean(x, w): return np.sum(w*x)/np.sum(w)\n",
    "def wvar(x, w):\n",
    "    mu = wmean(x,w); return np.sum(w*(x-mu)**2)/np.sum(w)\n",
    "def smd_weighted(x, d, w):\n",
    "    x1, w1 = x[d==1], w[d==1]\n",
    "    x0, w0 = x[d==0], w[d==0]\n",
    "    s = np.sqrt((wvar(x1,w1)+wvar(x0,w0))/2)\n",
    "    return 0 if s==0 else (wmean(x1,w1)-wmean(x0,w0))/s\n",
    "\n",
    "# compute SMDs\n",
    "rows = []\n",
    "for c in covs:\n",
    "    x = df_iptw[c].values\n",
    "    smd_unw = smd_unweighted(x, treat)\n",
    "    smd_iptw = smd_weighted(x, treat, df_iptw[\"sw_trim\"].values)\n",
    "    smd_ov   = smd_weighted(x, treat, df_iptw[\"w_ov\"].values)\n",
    "    rows.append({\"covariate\": c,\n",
    "                 \"Unweighted\": smd_unw,\n",
    "                 \"IPTW_weighted\": smd_iptw,\n",
    "                 \"Overlap_weighted\": smd_ov})\n",
    "bal = pd.DataFrame(rows)\n",
    "print(\"Balance (SMD) summary — aim for |SMD| < 0.10:\\n\")\n",
    "print(bal.round(3))\n",
    "\n",
    "# side-by-side plot\n",
    "y = np.arange(len(covs))\n",
    "plt.figure(figsize=(10,4.5))\n",
    "\n",
    "# left: IPTW\n",
    "plt.subplot(1,2,1)\n",
    "plt.scatter(bal[\"Unweighted\"], y, label=\"Unweighted\")\n",
    "plt.scatter(bal[\"IPTW_weighted\"], y, label=\"IPTW\")\n",
    "plt.axvline(0, color=\"black\", linestyle=\"--\")\n",
    "plt.axvline(0.1, color=\"gray\", linestyle=\"dashed\"); plt.axvline(-0.1, color=\"gray\", linestyle=\"dashed\")\n",
    "plt.yticks(y, covs)\n",
    "plt.xlabel(\"Standardized Mean Difference (SMD)\")\n",
    "plt.title(\"Balance: IPTW vs Unweighted\")\n",
    "plt.legend(loc=\"lower right\")\n",
    "\n",
    "# right: Overlap Weights\n",
    "plt.subplot(1,2,2)\n",
    "plt.scatter(bal[\"Unweighted\"], y, label=\"Unweighted\")\n",
    "plt.scatter(bal[\"Overlap_weighted\"], y, label=\"Overlap Weights\")\n",
    "plt.axvline(0, color=\"black\", linestyle=\"--\")\n",
    "plt.axvline(0.1, color=\"gray\", linestyle=\"dashed\"); plt.axvline(-0.1, color=\"gray\", linestyle=\"dashed\")\n",
    "plt.yticks(y, [])  # hide duplicate labels\n",
    "plt.xlabel(\"Standardized Mean Difference (SMD)\")\n",
    "plt.title(\"Balance: Overlap vs Unweighted\")\n",
    "plt.legend(loc=\"lower right\")\n",
    "\n",
    "plt.tight_layout()\n",
    "plt.show()"
   ]
  },
  {
   "cell_type": "markdown",
   "id": "56654d5b-48c9-4832-b1bd-e26dc07ddc93",
   "metadata": {},
   "source": [
    "**Test Results**\n",
    "\n",
    "We compared three propensity models for estimating overlap weights:\n",
    "\n",
    "- **Logistic (baseline):**  \n",
    "  - ATO = 0.180 (95% CI [0.130, 0.231])  \n",
    "  - Max |SMD| = 0.55 → **Poor balance** (internships confounder remained unbalanced)\n",
    "\n",
    "- **Polynomial Logistic (degree 2):**  \n",
    "  - ATO = 0.026 (95% CI [-0.018, 0.069])  \n",
    "  - Max |SMD| = 0.08 → **Good balance** (all covariates within threshold)\n",
    "\n",
    "- **Gradient Boosting:**  \n",
    "  - ATO = 0.023 (95% CI [-0.021, 0.067])  \n",
    "  - Max |SMD| = 0.02 → **Excellent balance** (best performing model)\n",
    "\n",
    "**Findings:**\n",
    "- A simple logistic model suggested a large positive effect, but failed balance checks.  \n",
    "- With richer models (polynomial logistic, gradient boosting), covariate balance improved (max|SMD| < 0.1), and the effect shrank dramatically.  \n",
    "- The final gradient boosting model suggests **no statistically significant causal effect** of project completion on job offers in the overlap population.\n",
    "\n",
    "**Takeaway:**  \n",
    "This demonstrates the importance of checking overlap and testing multiple propensity models. A naive model overstated the effect, while a robust overlap-weighted analysis revealed no reliable causal effect once confounding was addressed."
   ]
  }
 ],
 "metadata": {
  "kernelspec": {
   "display_name": "Python [conda env:base] *",
   "language": "python",
   "name": "conda-base-py"
  },
  "language_info": {
   "codemirror_mode": {
    "name": "ipython",
    "version": 3
   },
   "file_extension": ".py",
   "mimetype": "text/x-python",
   "name": "python",
   "nbconvert_exporter": "python",
   "pygments_lexer": "ipython3",
   "version": "3.12.7"
  }
 },
 "nbformat": 4,
 "nbformat_minor": 5
}
